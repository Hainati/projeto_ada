{
 "cells": [
  {
   "cell_type": "code",
   "execution_count": 0,
   "metadata": {
    "application/vnd.databricks.v1+cell": {
     "cellMetadata": {
      "byteLimit": 2048000,
      "rowLimit": 10000
     },
     "inputWidgets": {},
     "nuid": "264cdb6f-60d5-4989-811e-6bd5beb9f5db",
     "showTitle": false,
     "title": ""
    }
   },
   "outputs": [
    {
     "output_type": "stream",
     "name": "stdout",
     "output_type": "stream",
     "text": [
      "Média dos resultados: 6.989\nLançamento máximo: 12\nLançamento mínimo: 2\nNúmero de vezes que cada possível lançamento ocorreu:\nLançamento 2: 30 vezes\nLançamento 3: 57 vezes\nLançamento 4: 73 vezes\nLançamento 5: 115 vezes\nLançamento 6: 160 vezes\nLançamento 7: 150 vezes\nLançamento 8: 134 vezes\nLançamento 9: 115 vezes\nLançamento 10: 77 vezes\nLançamento 11: 64 vezes\nLançamento 12: 25 vezes\n"
     ]
    }
   ],
   "source": [
    "import numpy as np\n",
    " \n",
    "def simular_lancamento():\n",
    "    dado1 = np.random.randint(1, 7)  # Valor aleatório entre 1 e 6 para o primeiro dado\n",
    "    dado2 = np.random.randint(1, 7)  # Valor aleatório entre 1 e 6 para o segundo dado\n",
    "    return dado1 + dado2\n",
    " \n",
    "resultados = np.array([simular_lancamento() for _ in range(1000)])\n",
    "\n",
    "# Média dos resultados\n",
    "media = np.mean(resultados)\n",
    " \n",
    "# Mínimo e máximo dos resultados\n",
    "minimo = np.min(resultados)\n",
    "maximo = np.max(resultados)\n",
    " \n",
    "# Contagem de ocorrências de cada possível lançamento (2 a 12)\n",
    "contagem_lancamentos = np.bincount(resultados)[2:]\n",
    " \n",
    "# Imprimir os resultados\n",
    "print(\"Média dos resultados:\", media)\n",
    "print(\"Lançamento máximo:\", maximo)\n",
    "print(\"Lançamento mínimo:\", minimo)\n",
    "print(\"Número de vezes que cada possível lançamento ocorreu:\")\n",
    "for i, count in enumerate(contagem_lancamentos, start=2):\n",
    "    print(f\"Lançamento {i}: {count} vezes\")"
   ]
  }
 ],
 "metadata": {
  "application/vnd.databricks.v1+notebook": {
   "dashboards": [],
   "language": "python",
   "notebookMetadata": {
    "pythonIndentUnit": 4
   },
   "notebookName": "Mini Projeto - técnicas de programação I - Hainati",
   "widgets": {}
  }
 },
 "nbformat": 4,
 "nbformat_minor": 0
}
