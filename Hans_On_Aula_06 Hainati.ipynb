{
 "cells": [
  {
   "cell_type": "markdown",
   "metadata": {
    "application/vnd.databricks.v1+cell": {
     "cellMetadata": {},
     "inputWidgets": {},
     "nuid": "dd1ae47e-4e4a-4d9b-875f-c24d4580960d",
     "showTitle": false,
     "title": ""
    },
    "id": "GSPieMzu5pp1"
   },
   "source": [
    "# Hands-On\n",
    "\n",
    "Você foi designado para realizar a limpeza e preparação de dados de dois conjuntos de dados (base1.csv e base2.csv) distintos que representam informações relacionadas a risco de crédito.\n",
    "\n",
    "Seu objetivo é ler os dois conjuntos de dados usando a biblioteca Pandas, realizar a concatenação dos dados, lidar com valores duplicados e faltantes, além de verificar a presença de outliers nos dados combinados.\n",
    "\n",
    "____\n",
    "\n",
    "## Passos a serem seguidos:\n",
    "\n",
    "1. **Leitura dos Arquivos:** Utilize a biblioteca Pandas para ler os dois arquivos de dados: 'base1.csv' e 'base2.csv', que estão no diretório datasets, no repositório do módulo.\n",
    "2. **Concatenação dos Dados:** Concatene os dois conjuntos de dados em um único DataFrame, verificando se os dados possuem a mesma estrutura para uma concatenação adequada.\n",
    "3. **Tratamento de Dados Duplicados:** Verifique se há linhas duplicadas no DataFrame combinado e remova-as, mantendo a primeira ocorrência.\n",
    "4. **Tratamento de Valores Faltantes:** Identifique e lide com os valores faltantes no DataFrame combinado. Preencha os valores ausentes com estratégias apropriadas (média, mediana, valor específico etc.) dependendo do contexto dos dados.\n",
    "5. **Verificação de Outliers:** Utilize métodos estatísticos ou gráficos (como boxplots) para identificar a presença de outliers nos dados. Considere se eles são significativos para a análise ou se precisam ser tratados de alguma forma."
   ]
  },
  {
   "cell_type": "code",
   "execution_count": 0,
   "metadata": {
    "application/vnd.databricks.v1+cell": {
     "cellMetadata": {
      "byteLimit": 2048000,
      "rowLimit": 10000
     },
     "inputWidgets": {},
     "nuid": "478deb50-5ecb-44c8-bf0a-aa7a8380f4bd",
     "showTitle": false,
     "title": ""
    },
    "id": "Lb-gowl26bzX"
   },
   "outputs": [],
   "source": [
    "import pandas as pd"
   ]
  },
  {
   "cell_type": "code",
   "execution_count": 0,
   "metadata": {
    "application/vnd.databricks.v1+cell": {
     "cellMetadata": {
      "byteLimit": 2048000,
      "rowLimit": 10000
     },
     "inputWidgets": {},
     "nuid": "aefa0d19-ff18-48bc-ab37-200043316ce7",
     "showTitle": false,
     "title": ""
    }
   },
   "outputs": [],
   "source": [
    "df_base1 = pd.read_csv('../datasets/base1.csv')\n",
    "df_base2 = pd.read_csv('../datasets/base2.csv')"
   ]
  },
  {
   "cell_type": "code",
   "execution_count": 0,
   "metadata": {
    "application/vnd.databricks.v1+cell": {
     "cellMetadata": {
      "byteLimit": 2048000,
      "rowLimit": 10000
     },
     "inputWidgets": {},
     "nuid": "5e25494c-3c8b-4c09-abbb-2b79180ab79c",
     "showTitle": false,
     "title": ""
    }
   },
   "outputs": [
    {
     "output_type": "stream",
     "name": "stdout",
     "output_type": "stream",
     "text": [
      "<class 'pandas.core.frame.DataFrame'>\nRangeIndex: 670 entries, 0 to 669\nData columns (total 12 columns):\n #   Column            Non-Null Count  Dtype \n---  ------            --------------  ----- \n 0   Unnamed: 0.1      670 non-null    int64 \n 1   Unnamed: 0        670 non-null    int64 \n 2   Age               670 non-null    int64 \n 3   Sex               670 non-null    object\n 4   Job               670 non-null    int64 \n 5   Housing           670 non-null    object\n 6   Saving accounts   547 non-null    object\n 7   Checking account  409 non-null    object\n 8   Credit amount     670 non-null    int64 \n 9   Duration          670 non-null    int64 \n 10  Purpose           670 non-null    object\n 11  Risk              670 non-null    object\ndtypes: int64(6), object(6)\nmemory usage: 62.9+ KB\n<class 'pandas.core.frame.DataFrame'>\nRangeIndex: 330 entries, 0 to 329\nData columns (total 12 columns):\n #   Column            Non-Null Count  Dtype \n---  ------            --------------  ----- \n 0   Unnamed: 0.1      330 non-null    int64 \n 1   Unnamed: 0        330 non-null    int64 \n 2   Age               330 non-null    int64 \n 3   Sex               330 non-null    object\n 4   Job               330 non-null    int64 \n 5   Housing           330 non-null    object\n 6   Saving accounts   270 non-null    object\n 7   Checking account  197 non-null    object\n 8   Credit amount     330 non-null    int64 \n 9   Duration          330 non-null    int64 \n 10  Purpose           330 non-null    object\n 11  Risk              330 non-null    object\ndtypes: int64(6), object(6)\nmemory usage: 31.1+ KB\n"
     ]
    }
   ],
   "source": [
    "df_base1.info()\n",
    "df_base2.info()"
   ]
  },
  {
   "cell_type": "code",
   "execution_count": 0,
   "metadata": {
    "application/vnd.databricks.v1+cell": {
     "cellMetadata": {
      "byteLimit": 2048000,
      "rowLimit": 10000
     },
     "inputWidgets": {},
     "nuid": "5fb4a3bb-267c-4dfa-8ec0-c10722c9b1f1",
     "showTitle": false,
     "title": ""
    }
   },
   "outputs": [],
   "source": [
    "base_concat = pd.concat([df_base1,df_base2])"
   ]
  },
  {
   "cell_type": "code",
   "execution_count": 0,
   "metadata": {
    "application/vnd.databricks.v1+cell": {
     "cellMetadata": {
      "byteLimit": 2048000,
      "rowLimit": 10000
     },
     "inputWidgets": {},
     "nuid": "7fca6a0d-7012-4d0c-96bc-57a513142742",
     "showTitle": false,
     "title": ""
    }
   },
   "outputs": [],
   "source": [
    "base_concat_sem_duplicadas = base_concat[~base_concat.duplicated()]"
   ]
  },
  {
   "cell_type": "code",
   "execution_count": 0,
   "metadata": {
    "application/vnd.databricks.v1+cell": {
     "cellMetadata": {
      "byteLimit": 2048000,
      "rowLimit": 10000
     },
     "inputWidgets": {},
     "nuid": "4c9f9e16-ddcf-4c57-b6d0-816c066340d6",
     "showTitle": false,
     "title": ""
    }
   },
   "outputs": [
    {
     "output_type": "stream",
     "name": "stdout",
     "output_type": "stream",
     "text": [
      "<class 'pandas.core.frame.DataFrame'>\nInt64Index: 1000 entries, 0 to 329\nData columns (total 12 columns):\n #   Column            Non-Null Count  Dtype \n---  ------            --------------  ----- \n 0   Unnamed: 0.1      1000 non-null   int64 \n 1   Unnamed: 0        1000 non-null   int64 \n 2   Age               1000 non-null   int64 \n 3   Sex               1000 non-null   object\n 4   Job               1000 non-null   int64 \n 5   Housing           1000 non-null   object\n 6   Saving accounts   817 non-null    object\n 7   Checking account  606 non-null    object\n 8   Credit amount     1000 non-null   int64 \n 9   Duration          1000 non-null   int64 \n 10  Purpose           1000 non-null   object\n 11  Risk              1000 non-null   object\ndtypes: int64(6), object(6)\nmemory usage: 101.6+ KB\n"
     ]
    }
   ],
   "source": [
    "base_concat_sem_duplicadas.info()"
   ]
  },
  {
   "cell_type": "code",
   "execution_count": 0,
   "metadata": {
    "application/vnd.databricks.v1+cell": {
     "cellMetadata": {
      "byteLimit": 2048000,
      "rowLimit": 10000
     },
     "inputWidgets": {},
     "nuid": "ceffafb8-3ca2-4fe3-8f17-40559ed5240b",
     "showTitle": false,
     "title": ""
    }
   },
   "outputs": [
    {
     "output_type": "execute_result",
     "data": {
      "text/html": [
       "<div>\n",
       "<style scoped>\n",
       "    .dataframe tbody tr th:only-of-type {\n",
       "        vertical-align: middle;\n",
       "    }\n",
       "\n",
       "    .dataframe tbody tr th {\n",
       "        vertical-align: top;\n",
       "    }\n",
       "\n",
       "    .dataframe thead th {\n",
       "        text-align: right;\n",
       "    }\n",
       "</style>\n",
       "<table border=\"1\" class=\"dataframe\">\n",
       "  <thead>\n",
       "    <tr style=\"text-align: right;\">\n",
       "      <th></th>\n",
       "      <th>Unnamed: 0.1</th>\n",
       "      <th>Unnamed: 0</th>\n",
       "      <th>Age</th>\n",
       "      <th>Sex</th>\n",
       "      <th>Job</th>\n",
       "      <th>Housing</th>\n",
       "      <th>Saving accounts</th>\n",
       "      <th>Checking account</th>\n",
       "      <th>Credit amount</th>\n",
       "      <th>Duration</th>\n",
       "      <th>Purpose</th>\n",
       "      <th>Risk</th>\n",
       "    </tr>\n",
       "  </thead>\n",
       "  <tbody>\n",
       "    <tr>\n",
       "      <th>0</th>\n",
       "      <td>104</td>\n",
       "      <td>104</td>\n",
       "      <td>26</td>\n",
       "      <td>male</td>\n",
       "      <td>2</td>\n",
       "      <td>rent</td>\n",
       "      <td>NaN</td>\n",
       "      <td>NaN</td>\n",
       "      <td>2445</td>\n",
       "      <td>12</td>\n",
       "      <td>car</td>\n",
       "      <td>good</td>\n",
       "    </tr>\n",
       "    <tr>\n",
       "      <th>1</th>\n",
       "      <td>360</td>\n",
       "      <td>360</td>\n",
       "      <td>61</td>\n",
       "      <td>male</td>\n",
       "      <td>2</td>\n",
       "      <td>free</td>\n",
       "      <td>NaN</td>\n",
       "      <td>moderate</td>\n",
       "      <td>1239</td>\n",
       "      <td>18</td>\n",
       "      <td>education</td>\n",
       "      <td>good</td>\n",
       "    </tr>\n",
       "    <tr>\n",
       "      <th>2</th>\n",
       "      <td>695</td>\n",
       "      <td>695</td>\n",
       "      <td>50</td>\n",
       "      <td>male</td>\n",
       "      <td>2</td>\n",
       "      <td>rent</td>\n",
       "      <td>quite rich</td>\n",
       "      <td>NaN</td>\n",
       "      <td>1236</td>\n",
       "      <td>6</td>\n",
       "      <td>car</td>\n",
       "      <td>good</td>\n",
       "    </tr>\n",
       "    <tr>\n",
       "      <th>3</th>\n",
       "      <td>902</td>\n",
       "      <td>902</td>\n",
       "      <td>42</td>\n",
       "      <td>male</td>\n",
       "      <td>2</td>\n",
       "      <td>free</td>\n",
       "      <td>NaN</td>\n",
       "      <td>NaN</td>\n",
       "      <td>10477</td>\n",
       "      <td>36</td>\n",
       "      <td>car</td>\n",
       "      <td>good</td>\n",
       "    </tr>\n",
       "    <tr>\n",
       "      <th>4</th>\n",
       "      <td>312</td>\n",
       "      <td>312</td>\n",
       "      <td>26</td>\n",
       "      <td>female</td>\n",
       "      <td>2</td>\n",
       "      <td>own</td>\n",
       "      <td>little</td>\n",
       "      <td>rich</td>\n",
       "      <td>3749</td>\n",
       "      <td>24</td>\n",
       "      <td>furniture/equipment</td>\n",
       "      <td>good</td>\n",
       "    </tr>\n",
       "    <tr>\n",
       "      <th>...</th>\n",
       "      <td>...</td>\n",
       "      <td>...</td>\n",
       "      <td>...</td>\n",
       "      <td>...</td>\n",
       "      <td>...</td>\n",
       "      <td>...</td>\n",
       "      <td>...</td>\n",
       "      <td>...</td>\n",
       "      <td>...</td>\n",
       "      <td>...</td>\n",
       "      <td>...</td>\n",
       "      <td>...</td>\n",
       "    </tr>\n",
       "    <tr>\n",
       "      <th>325</th>\n",
       "      <td>467</td>\n",
       "      <td>467</td>\n",
       "      <td>32</td>\n",
       "      <td>male</td>\n",
       "      <td>2</td>\n",
       "      <td>own</td>\n",
       "      <td>NaN</td>\n",
       "      <td>NaN</td>\n",
       "      <td>7238</td>\n",
       "      <td>48</td>\n",
       "      <td>radio/TV</td>\n",
       "      <td>good</td>\n",
       "    </tr>\n",
       "    <tr>\n",
       "      <th>326</th>\n",
       "      <td>829</td>\n",
       "      <td>829</td>\n",
       "      <td>38</td>\n",
       "      <td>male</td>\n",
       "      <td>2</td>\n",
       "      <td>free</td>\n",
       "      <td>NaN</td>\n",
       "      <td>moderate</td>\n",
       "      <td>6681</td>\n",
       "      <td>48</td>\n",
       "      <td>business</td>\n",
       "      <td>good</td>\n",
       "    </tr>\n",
       "    <tr>\n",
       "      <th>327</th>\n",
       "      <td>296</td>\n",
       "      <td>296</td>\n",
       "      <td>20</td>\n",
       "      <td>female</td>\n",
       "      <td>2</td>\n",
       "      <td>rent</td>\n",
       "      <td>NaN</td>\n",
       "      <td>NaN</td>\n",
       "      <td>4675</td>\n",
       "      <td>12</td>\n",
       "      <td>car</td>\n",
       "      <td>good</td>\n",
       "    </tr>\n",
       "    <tr>\n",
       "      <th>328</th>\n",
       "      <td>235</td>\n",
       "      <td>235</td>\n",
       "      <td>30</td>\n",
       "      <td>male</td>\n",
       "      <td>3</td>\n",
       "      <td>own</td>\n",
       "      <td>little</td>\n",
       "      <td>little</td>\n",
       "      <td>1823</td>\n",
       "      <td>24</td>\n",
       "      <td>radio/TV</td>\n",
       "      <td>bad</td>\n",
       "    </tr>\n",
       "    <tr>\n",
       "      <th>329</th>\n",
       "      <td>633</td>\n",
       "      <td>633</td>\n",
       "      <td>19</td>\n",
       "      <td>female</td>\n",
       "      <td>2</td>\n",
       "      <td>rent</td>\n",
       "      <td>little</td>\n",
       "      <td>NaN</td>\n",
       "      <td>1980</td>\n",
       "      <td>9</td>\n",
       "      <td>furniture/equipment</td>\n",
       "      <td>bad</td>\n",
       "    </tr>\n",
       "  </tbody>\n",
       "</table>\n",
       "<p>1000 rows × 12 columns</p>\n",
       "</div>"
      ],
      "text/plain": [
       "     Unnamed: 0.1  Unnamed: 0  Age  ... Duration              Purpose  Risk\n",
       "0             104         104   26  ...       12                  car  good\n",
       "1             360         360   61  ...       18            education  good\n",
       "2             695         695   50  ...        6                  car  good\n",
       "3             902         902   42  ...       36                  car  good\n",
       "4             312         312   26  ...       24  furniture/equipment  good\n",
       "..            ...         ...  ...  ...      ...                  ...   ...\n",
       "325           467         467   32  ...       48             radio/TV  good\n",
       "326           829         829   38  ...       48             business  good\n",
       "327           296         296   20  ...       12                  car  good\n",
       "328           235         235   30  ...       24             radio/TV   bad\n",
       "329           633         633   19  ...        9  furniture/equipment   bad\n",
       "\n",
       "[1000 rows x 12 columns]"
      ]
     },
     "execution_count": 17,
     "metadata": {},
     "output_type": "execute_result"
    }
   ],
   "source": [
    "base_concat_sem_duplicadas"
   ]
  },
  {
   "cell_type": "code",
   "execution_count": 0,
   "metadata": {
    "application/vnd.databricks.v1+cell": {
     "cellMetadata": {
      "byteLimit": 2048000,
      "rowLimit": 10000
     },
     "inputWidgets": {},
     "nuid": "35b7b193-86ab-4dd2-9ba6-3bf718e51ab1",
     "showTitle": false,
     "title": ""
    }
   },
   "outputs": [],
   "source": [
    "base_concat_sem_duplicadas['Saving accounts'].fillna('indefinido',inplace=True)\n",
    "base_concat_sem_duplicadas['Checking account'].fillna('indefinido',inplace=True)"
   ]
  },
  {
   "cell_type": "code",
   "execution_count": 0,
   "metadata": {
    "application/vnd.databricks.v1+cell": {
     "cellMetadata": {
      "byteLimit": 2048000,
      "rowLimit": 10000
     },
     "inputWidgets": {},
     "nuid": "753569bf-3a5e-49fd-bc86-6203292999ed",
     "showTitle": false,
     "title": ""
    }
   },
   "outputs": [
    {
     "output_type": "stream",
     "name": "stdout",
     "output_type": "stream",
     "text": [
      "<class 'pandas.core.frame.DataFrame'>\nInt64Index: 1000 entries, 0 to 329\nData columns (total 12 columns):\n #   Column            Non-Null Count  Dtype \n---  ------            --------------  ----- \n 0   Unnamed: 0.1      1000 non-null   int64 \n 1   Unnamed: 0        1000 non-null   int64 \n 2   Age               1000 non-null   int64 \n 3   Sex               1000 non-null   object\n 4   Job               1000 non-null   int64 \n 5   Housing           1000 non-null   object\n 6   Saving accounts   1000 non-null   object\n 7   Checking account  1000 non-null   object\n 8   Credit amount     1000 non-null   int64 \n 9   Duration          1000 non-null   int64 \n 10  Purpose           1000 non-null   object\n 11  Risk              1000 non-null   object\ndtypes: int64(6), object(6)\nmemory usage: 101.6+ KB\n"
     ]
    }
   ],
   "source": [
    "base_concat_sem_duplicadas.info()"
   ]
  },
  {
   "cell_type": "code",
   "execution_count": 0,
   "metadata": {
    "application/vnd.databricks.v1+cell": {
     "cellMetadata": {
      "byteLimit": 2048000,
      "rowLimit": 10000
     },
     "inputWidgets": {},
     "nuid": "39637c50-b88f-44db-9aa2-9f7bbcf16ee1",
     "showTitle": false,
     "title": ""
    }
   },
   "outputs": [],
   "source": [
    "import matplotlib.pyplot as plt"
   ]
  },
  {
   "cell_type": "code",
   "execution_count": 0,
   "metadata": {
    "application/vnd.databricks.v1+cell": {
     "cellMetadata": {
      "byteLimit": 2048000,
      "rowLimit": 10000
     },
     "inputWidgets": {},
     "nuid": "dbca293c-2cc9-4f48-8434-8ddadb6e6470",
     "showTitle": false,
     "title": ""
    }
   },
   "outputs": [
    {
     "output_type": "display_data",
     "data": {
      "image/png": "[encoded data removed]",
      "text/plain": [
       "<Figure size 640x480 with 1 Axes>"
      ]
     },
     "metadata": {},
     "output_type": "display_data"
    }
   ],
   "source": [
    "base_concat_sem_duplicadas.boxplot()\n",
    "plt.title('Boxplot das colunas')\n",
    "plt.xlabel('Grupos')\n",
    "plt.ylabel('Valores')\n",
    "plt.show()"
   ]
  },
  {
   "cell_type": "code",
   "execution_count": 0,
   "metadata": {
    "application/vnd.databricks.v1+cell": {
     "cellMetadata": {
      "byteLimit": 2048000,
      "rowLimit": 10000
     },
     "inputWidgets": {},
     "nuid": "7d63f6dc-b91b-48f5-8d25-e3152abbd44f",
     "showTitle": false,
     "title": ""
    }
   },
   "outputs": [
    {
     "output_type": "display_data",
     "data": {
      "image/png": "[encoded data removed]",
      "text/plain": [
       "<Figure size 640x480 with 1 Axes>"
      ]
     },
     "metadata": {},
     "output_type": "display_data"
    }
   ],
   "source": [
    "base_concat_sem_duplicadas.boxplot(column='Credit amount')\n",
    "plt.title('Boxplot de Credit amount')\n",
    "plt.ylabel('Valores')\n",
    "plt.show()"
   ]
  },
  {
   "cell_type": "code",
   "execution_count": 0,
   "metadata": {
    "application/vnd.databricks.v1+cell": {
     "cellMetadata": {
      "byteLimit": 2048000,
      "rowLimit": 10000
     },
     "inputWidgets": {},
     "nuid": "943e411e-45c0-40cf-b676-8a6407e3781b",
     "showTitle": false,
     "title": ""
    }
   },
   "outputs": [],
   "source": [
    "def identificar_outliers(df, coluna):\n",
    "    # Calculando o primeiro e terceiro quartis\n",
    "    Q1 = df[coluna].quantile(0.25) #Primeiro Quartil\n",
    "    Q3 = df[coluna].quantile(0.75) #Terceiro Quartil\n",
    "    \n",
    "    # Calculando o IQR (Intervalo Interquartil)\n",
    "    IQR = Q3 - Q1\n",
    "    \n",
    "    # Calculando os limites superior e inferior para identificar os outliers\n",
    "    limite_inferior = Q1 - 1.5 * IQR\n",
    "    limite_superior = Q3 + 1.5 * IQR\n",
    "    \n",
    "    # Identificando outliers na coluna especificada\n",
    "    outliers = df[(df[coluna] < limite_inferior) | (df[coluna] > limite_superior)]\n",
    "    \n",
    "    return outliers"
   ]
  },
  {
   "cell_type": "code",
   "execution_count": 0,
   "metadata": {
    "application/vnd.databricks.v1+cell": {
     "cellMetadata": {
      "byteLimit": 2048000,
      "rowLimit": 10000
     },
     "inputWidgets": {},
     "nuid": "f011b376-9064-4cb8-b3e6-667521efd9b8",
     "showTitle": false,
     "title": ""
    }
   },
   "outputs": [],
   "source": [
    "#Exemplo de uso\n",
    "outliers_encontrados = identificar_outliers(base_concat_sem_duplicadas,'Credit amount')"
   ]
  },
  {
   "cell_type": "code",
   "execution_count": 0,
   "metadata": {
    "application/vnd.databricks.v1+cell": {
     "cellMetadata": {},
     "inputWidgets": {},
     "nuid": "1d0180ff-a275-48b9-b42d-04ff7d44a8c4",
     "showTitle": false,
     "title": ""
    }
   },
   "outputs": [],
   "source": []
  }
 ],
 "metadata": {
  "application/vnd.databricks.v1+notebook": {
   "dashboards": [],
   "language": "python",
   "notebookMetadata": {
    "pythonIndentUnit": 4
   },
   "notebookName": "Hans_On_Aula_06 (1)",
   "widgets": {}
  },
  "colab": {
   "provenance": []
  },
  "kernelspec": {
   "display_name": "Python 3",
   "name": "python3"
  },
  "language_info": {
   "name": "python"
  }
 },
 "nbformat": 4,
 "nbformat_minor": 0
}
